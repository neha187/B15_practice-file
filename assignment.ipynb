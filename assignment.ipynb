{
 "cells": [
  {
   "cell_type": "code",
   "execution_count": 1,
   "metadata": {},
   "outputs": [
    {
     "name": "stdout",
     "output_type": "stream",
     "text": [
      "add cheese in sandwich\n",
      "add cucumber in sandwich\n",
      "add jam in sandwich\n"
     ]
    }
   ],
   "source": [
    "#making sandwich\n",
    "def sandwich(*items):\n",
    "    \"\"\"ordering sandwich\"\"\"\n",
    "    \n",
    "    for x in items:\n",
    "        print(f\"add {x} in sandwich\")\n",
    "        \n",
    "        \n",
    "sandwich('cheese','cucumber','jam')"
   ]
  },
  {
   "cell_type": "code",
   "execution_count": 2,
   "metadata": {},
   "outputs": [
    {
     "name": "stdout",
     "output_type": "stream",
     "text": [
      "add onion in sandwich\n",
      "add mayonnaise in sandwich\n"
     ]
    }
   ],
   "source": [
    "sandwich('onion','mayonnaise')"
   ]
  },
  {
   "cell_type": "code",
   "execution_count": 3,
   "metadata": {},
   "outputs": [
    {
     "name": "stdout",
     "output_type": "stream",
     "text": [
      "add coriander in sandwich\n",
      "add cucumber in sandwich\n"
     ]
    }
   ],
   "source": [
    "sandwich('coriander','cucumber')"
   ]
  },
  {
   "cell_type": "code",
   "execution_count": null,
   "metadata": {},
   "outputs": [],
   "source": []
  },
  {
   "cell_type": "code",
   "execution_count": 4,
   "metadata": {},
   "outputs": [
    {
     "ename": "IndentationError",
     "evalue": "expected an indented block (<ipython-input-4-92cb0dc2bc6e>, line 11)",
     "output_type": "error",
     "traceback": [
      "\u001b[1;36m  File \u001b[1;32m\"<ipython-input-4-92cb0dc2bc6e>\"\u001b[1;36m, line \u001b[1;32m11\u001b[0m\n\u001b[1;33m    return about_car\u001b[0m\n\u001b[1;37m         ^\u001b[0m\n\u001b[1;31mIndentationError\u001b[0m\u001b[1;31m:\u001b[0m expected an indented block\n"
     ]
    }
   ],
   "source": [
    "# information about cars\n",
    "def Make_Car(manufacturer,model,**optional):\n",
    "    \"\"\"information about car\"\"\"\n",
    "    \n",
    "    about_car = {\n",
    "        'manufacturer': manufacturer,\n",
    "        'model': model\n",
    "    }\n",
    "    \n",
    "    for key,value in optional:\n",
    "    return about_car\n",
    "    \n",
    "car = Make_car('subaru','outback',color = 'blue',tow_package = True)\n",
    "print(car)"
   ]
  },
  {
   "cell_type": "code",
   "execution_count": null,
   "metadata": {},
   "outputs": [],
   "source": []
  },
  {
   "cell_type": "code",
   "execution_count": null,
   "metadata": {},
   "outputs": [],
   "source": []
  }
 ],
 "metadata": {
  "kernelspec": {
   "display_name": "Python 3",
   "language": "python",
   "name": "python3"
  },
  "language_info": {
   "codemirror_mode": {
    "name": "ipython",
    "version": 3
   },
   "file_extension": ".py",
   "mimetype": "text/x-python",
   "name": "python",
   "nbconvert_exporter": "python",
   "pygments_lexer": "ipython3",
   "version": "3.7.6"
  }
 },
 "nbformat": 4,
 "nbformat_minor": 4
}
