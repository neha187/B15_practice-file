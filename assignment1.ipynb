{
 "cells": [
  {
   "cell_type": "code",
   "execution_count": 1,
   "metadata": {},
   "outputs": [
    {
     "name": "stdout",
     "output_type": "stream",
     "text": [
      "add cheese in sandwich\n",
      "add cucumber in sandwich\n",
      "add jam in sandwich\n"
     ]
    }
   ],
   "source": [
    "#making sandwich\n",
    "def sandwich(*items):\n",
    "    \"\"\"ordering sandwich\"\"\"\n",
    "    \n",
    "    for x in items:\n",
    "        print(f\"add {x} in sandwich\")\n",
    "        \n",
    "        \n",
    "sandwich('cheese','cucumber','jam')"
   ]
  },
  {
   "cell_type": "code",
   "execution_count": 2,
   "metadata": {},
   "outputs": [
    {
     "name": "stdout",
     "output_type": "stream",
     "text": [
      "add onion in sandwich\n",
      "add mayonnaise in sandwich\n"
     ]
    }
   ],
   "source": [
    "sandwich('onion','mayonnaise')"
   ]
  },
  {
   "cell_type": "code",
   "execution_count": 3,
   "metadata": {},
   "outputs": [
    {
     "name": "stdout",
     "output_type": "stream",
     "text": [
      "add coriander in sandwich\n",
      "add cucumber in sandwich\n"
     ]
    }
   ],
   "source": [
    "sandwich('coriander','cucumber')"
   ]
  },
  {
   "cell_type": "code",
   "execution_count": null,
   "metadata": {},
   "outputs": [],
   "source": []
  },
  {
   "cell_type": "code",
   "execution_count": 7,
   "metadata": {},
   "outputs": [
    {
     "name": "stdout",
     "output_type": "stream",
     "text": [
      "{'manufacturer': 'subaru', 'model': 'outback', 'color': 'blue', 'tow_package': True}\n"
     ]
    }
   ],
   "source": [
    "# information about cars\n",
    "def make_car(manufacturer,model,**optional):\n",
    "    \"\"\"information about car\"\"\"\n",
    "    \n",
    "    car_dict = {\n",
    "        'manufacturer': manufacturer.title(),\n",
    "        'model': model.title(),\n",
    "    }\n",
    "    \n",
    "    for option,value in optional.items():\n",
    "        car_dict[option] = value\n",
    "    return car_dict\n",
    "    \n",
    "my_outback= make_car('subaru','outback',color = 'blue',tow_package = True)\n",
    "print(my_outback)"
   ]
  },
  {
   "cell_type": "code",
   "execution_count": 8,
   "metadata": {},
   "outputs": [
    {
     "name": "stdout",
     "output_type": "stream",
     "text": [
      "{'manufacturer': 'honda', 'model': 'city', 'color': 'black', 'year': 2000, 'headlights': 'popup'}\n"
     ]
    }
   ],
   "source": [
    "my_accord = make_car('honda','city',color = 'black',year = 2000,headlights = 'popup')\n",
    "print(my_accord)"
   ]
  },
  {
   "cell_type": "code",
   "execution_count": null,
   "metadata": {},
   "outputs": [],
   "source": []
  },
  {
   "cell_type": "code",
   "execution_count": null,
   "metadata": {},
   "outputs": [],
   "source": [
    "#exceptional handling"
   ]
  },
  {
   "cell_type": "code",
   "execution_count": 10,
   "metadata": {},
   "outputs": [
    {
     "name": "stdout",
     "output_type": "stream",
     "text": [
      "Give me a number: 12\n",
      "Give me another number: y\n",
      "sorry,please enter the number\n"
     ]
    }
   ],
   "source": [
    "try:\n",
    "    x = input('Give me a number: ')\n",
    "    x = int(x)\n",
    "    \n",
    "    y = input('Give me another number: ')\n",
    "    y = int(y)\n",
    "    \n",
    "except ValueError:\n",
    "    print('sorry,please enter the number')\n",
    "    \n",
    "else:\n",
    "    sum = x + y\n",
    "    print(f\"The sum of x and y is {sum}\")"
   ]
  },
  {
   "cell_type": "code",
   "execution_count": null,
   "metadata": {},
   "outputs": [],
   "source": []
  },
  {
   "cell_type": "code",
   "execution_count": null,
   "metadata": {},
   "outputs": [],
   "source": []
  },
  {
   "cell_type": "code",
   "execution_count": null,
   "metadata": {},
   "outputs": [],
   "source": []
  },
  {
   "cell_type": "code",
   "execution_count": null,
   "metadata": {},
   "outputs": [],
   "source": []
  }
 ],
 "metadata": {
  "kernelspec": {
   "display_name": "Python 3",
   "language": "python",
   "name": "python3"
  },
  "language_info": {
   "codemirror_mode": {
    "name": "ipython",
    "version": 3
   },
   "file_extension": ".py",
   "mimetype": "text/x-python",
   "name": "python",
   "nbconvert_exporter": "python",
   "pygments_lexer": "ipython3",
   "version": "3.7.6"
  }
 },
 "nbformat": 4,
 "nbformat_minor": 4
}
