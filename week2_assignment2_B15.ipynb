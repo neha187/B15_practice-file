{
 "cells": [
  {
   "cell_type": "code",
   "execution_count": 8,
   "metadata": {},
   "outputs": [],
   "source": [
    "def make_shirt(size,message):\n",
    "    \n",
    "# Summarize the shirt\n",
    "    print(f\"I want a shirt of {size} size\")\n",
    "    print(f\"there must be written on the shirt is {message}\")"
   ]
  },
  {
   "cell_type": "code",
   "execution_count": 9,
   "metadata": {},
   "outputs": [
    {
     "name": "stdout",
     "output_type": "stream",
     "text": [
      "I want a shirt of small size\n",
      "there must be written on the shirt is Be Positive\n"
     ]
    }
   ],
   "source": [
    "# Using Positional argument\n",
    "make_shirt('small','Be Positive')"
   ]
  },
  {
   "cell_type": "code",
   "execution_count": 10,
   "metadata": {},
   "outputs": [
    {
     "name": "stdout",
     "output_type": "stream",
     "text": [
      "I want a shirt of small size\n",
      "there must be written on the shirt is Be Positive\n"
     ]
    }
   ],
   "source": [
    "# Using Keyword arguments\n",
    "make_shirt(size = 'small', message = 'Be Positive')"
   ]
  },
  {
   "cell_type": "code",
   "execution_count": null,
   "metadata": {},
   "outputs": [],
   "source": []
  },
  {
   "cell_type": "code",
   "execution_count": 18,
   "metadata": {},
   "outputs": [
    {
     "name": "stdout",
     "output_type": "stream",
     "text": [
      "I want a shirt of large size\n",
      "there must be written on the shirt is I Love Python\n"
     ]
    }
   ],
   "source": [
    "# Using Default arguments\n",
    "def make_shirt(size = 'large',message = 'I Love Python'):\n",
    "    print(f\"I want a shirt of {size} size\")\n",
    "    print(f\"there must be written on the shirt is {message}\")\n",
    "    \n",
    "make_shirt()"
   ]
  },
  {
   "cell_type": "code",
   "execution_count": 19,
   "metadata": {},
   "outputs": [
    {
     "name": "stdout",
     "output_type": "stream",
     "text": [
      "I want a shirt of medium size\n",
      "there must be written on the shirt is I Love Python\n"
     ]
    }
   ],
   "source": [
    "make_shirt(size = 'medium')"
   ]
  },
  {
   "cell_type": "code",
   "execution_count": 20,
   "metadata": {},
   "outputs": [
    {
     "name": "stdout",
     "output_type": "stream",
     "text": [
      "I want a shirt of medium size\n",
      "there must be written on the shirt is Queen\n"
     ]
    }
   ],
   "source": [
    "make_shirt('medium','Queen')"
   ]
  },
  {
   "cell_type": "code",
   "execution_count": null,
   "metadata": {},
   "outputs": [],
   "source": []
  },
  {
   "cell_type": "code",
   "execution_count": 35,
   "metadata": {},
   "outputs": [
    {
     "name": "stdout",
     "output_type": "stream",
     "text": [
      "Reykjavik is in Iceland\n",
      "Birmingham is in UK\n",
      "Toronto is in Canada\n"
     ]
    }
   ],
   "source": [
    "def describe_city(city,country = 'UK'):\n",
    "    print(f\"{city} is in {country}\")\n",
    "     \n",
    "# Display a information about city\n",
    "\n",
    "describe_city('Reykjavik','Iceland')\n",
    "          \n",
    "describe_city('Birmingham')\n",
    "          \n",
    "describe_city('Toronto','Canada')"
   ]
  },
  {
   "cell_type": "code",
   "execution_count": null,
   "metadata": {},
   "outputs": [],
   "source": []
  },
  {
   "cell_type": "code",
   "execution_count": null,
   "metadata": {},
   "outputs": [],
   "source": []
  },
  {
   "cell_type": "code",
   "execution_count": null,
   "metadata": {},
   "outputs": [],
   "source": []
  }
 ],
 "metadata": {
  "kernelspec": {
   "display_name": "Python 3",
   "language": "python",
   "name": "python3"
  },
  "language_info": {
   "codemirror_mode": {
    "name": "ipython",
    "version": 3
   },
   "file_extension": ".py",
   "mimetype": "text/x-python",
   "name": "python",
   "nbconvert_exporter": "python",
   "pygments_lexer": "ipython3",
   "version": "3.7.6"
  }
 },
 "nbformat": 4,
 "nbformat_minor": 4
}
